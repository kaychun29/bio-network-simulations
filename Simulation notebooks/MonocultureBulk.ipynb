{
 "cells": [
  {
   "cell_type": "markdown",
   "metadata": {},
   "source": [
    "# Import packages and simulation class"
   ]
  },
  {
   "cell_type": "code",
   "execution_count": 1,
   "metadata": {
    "jupyter": {
     "source_hidden": true
    },
    "tags": []
   },
   "outputs": [],
   "source": [
    "## Allows for figure rendering in notebook\n",
    "%matplotlib inline\n",
    "'''\n",
    "Simulation class for Chapter 7 Tutorial of Intro Network Science book\n",
    "\n",
    "Copyright 2018 Indiana University and Cambridge University Press\n",
    "'''\n",
    "\n",
    "from collections import Counter\n",
    "from operator import itemgetter\n",
    "import matplotlib as mpl\n",
    "import matplotlib.pyplot as plt\n",
    "import networkx as nx\n",
    "import random\n",
    "import numpy as np\n",
    "import math\n",
    "import seaborn as sns\n",
    "import pandas as pd\n",
    "import math\n",
    "from itertools import combinations\n",
    "\n",
    "class StopCondition(StopIteration):\n",
    "    pass\n",
    "\n",
    "class Simulation:\n",
    "    '''Simulate state transitions on a network'''\n",
    "\n",
    "    def __init__(self, G, initial_state, state_transition,\n",
    "            stop_condition=None, name=''):\n",
    "        '''\n",
    "        Create a Simulation instance.\n",
    "\n",
    "        Args:\n",
    "            G: a networkx.Graph instance.\n",
    "            initial_state: function with signature `initial_state(G)`, that\n",
    "                accepts a single argument, the Graph, and returns a dictionary\n",
    "                of all node states. The keys in this dict should be node names\n",
    "                and the values the corresponding initial node state.\n",
    "            state_transition: function with signature\n",
    "                `state_transition(G, current_state)` that accepts two\n",
    "                arguments, the Graph and a dictionary of current node states,\n",
    "                and returns a dictionary of updated node states. The keys in\n",
    "                this dict should be node names and the values the corresponding\n",
    "                updated node state.\n",
    "            stop_condition (optional): function with signature\n",
    "                `stop_condition(G, current_state)` that accepts two arguments,\n",
    "                the Graph and a dictionary of current node states, and returns\n",
    "                True if the simulation should be stopped at its current state.\n",
    "\n",
    "        Keyword Args:\n",
    "            name (optional): a string used in titles of plots and drawings.\n",
    "\n",
    "        Raises:\n",
    "            ValueError: if not all graph nodes have an initial state.\n",
    "        '''\n",
    "        self.G = G.copy()\n",
    "        self._initial_state = initial_state\n",
    "        self._state_transition = state_transition\n",
    "        self._stop_condition = stop_condition\n",
    "        # It's okay to specify stop_condition=False\n",
    "        if stop_condition and not callable(stop_condition):\n",
    "            raise TypeError(\"'stop_condition' should be a function\")\n",
    "        self.name = name or 'Simulation'\n",
    "\n",
    "        self._states = []\n",
    "        self._value_index = {}\n",
    "        self._cmap = plt.cm.get_cmap('tab10')\n",
    "\n",
    "        self._initialize()\n",
    "\n",
    "        self._pos = nx.layout.spring_layout(G)\n",
    "\n",
    "    def _append_state(self, state):\n",
    "        self._states.append(state)\n",
    "        # Update self._value_index\n",
    "        for value in set(state.values()):\n",
    "            if value not in self._value_index:\n",
    "                self._value_index[value] = len(self._value_index)\n",
    "\n",
    "    def _initialize(self):\n",
    "        if self._initial_state:\n",
    "            if callable(self._initial_state):\n",
    "                state = self._initial_state(self.G)\n",
    "            else:\n",
    "                state = self._initial_state\n",
    "            nx.set_node_attributes(self.G, state, 'state')\n",
    "\n",
    "        if any(self.G.nodes[n].get('state') is None for n in self.G.nodes):\n",
    "            raise ValueError('All nodes must have an initial state')\n",
    "\n",
    "        self._append_state(state)\n",
    "\n",
    "    def _step(self):\n",
    "        # We're choosing to use the node attributes as the source of truth.\n",
    "        # This allows the user to manually perturb the network in between steps.\n",
    "        state = nx.get_node_attributes(self.G, 'state')\n",
    "        if self._stop_condition and self._stop_condition(self.G, state):\n",
    "            raise StopCondition\n",
    "        #state = nx.get_node_attributes(self.G, 'state')\n",
    "        new_state = self._state_transition(self.G, state)\n",
    "        #state.update(new_state)\n",
    "        state = new_state\n",
    "        nx.set_node_attributes(self.G, state, 'state')\n",
    "        self._append_state(state)\n",
    "\n",
    "    def _categorical_color(self, value):\n",
    "        index = self._value_index[value]\n",
    "        node_color = self._cmap(index)\n",
    "        return node_color\n",
    "\n",
    "    @property\n",
    "    def steps(self):\n",
    "        ''' Returns the number of steps the sumulation has run '''\n",
    "        return len(self._states) - 1\n",
    "\n",
    "    def state(self, step=-1):\n",
    "        '''\n",
    "        Get a state of the simulation; by default returns the current state.\n",
    "\n",
    "        Args:\n",
    "            step: the step of the simulation to return. Default is -1, the\n",
    "            current state.\n",
    "\n",
    "        Returns:\n",
    "            Dictionary of node states.\n",
    "\n",
    "        Raises:\n",
    "            IndexError: if `step` argument is greater than the number of steps.\n",
    "        '''\n",
    "        try:\n",
    "            return self._states[step]\n",
    "        except IndexError:\n",
    "            raise IndexError('Simulation step %i out of range' % step)\n",
    "    \n",
    "    def props(self,num):\n",
    "      return self.G.nodes[num]\n",
    "    \n",
    "    def graph(self):\n",
    "      return self.G\n",
    "    \n",
    "    def num_nodes(self):\n",
    "      return self.G.number_of_nodes()\n",
    "\n",
    "    def draw(self, step=-1, labels=None, **kwargs):\n",
    "        '''\n",
    "        Use networkx.draw to draw a simulation state with nodes colored by\n",
    "        their state value. By default, draws the current state.\n",
    "\n",
    "        Args:\n",
    "            step: the step of the simulation to draw. Default is -1, the\n",
    "            current state.\n",
    "            kwargs: keyword arguments are passed to networkx.draw()\n",
    "\n",
    "        Raises:\n",
    "            IndexError: if `step` argument is greater than the number of steps.\n",
    "        '''\n",
    "        state = self.state(step)\n",
    "        node_colors = [self._categorical_color(state[n]) for n in self.G.nodes]\n",
    "        nx.draw(self.G, pos=self._pos, node_color=node_colors, **kwargs)\n",
    "\n",
    "        if labels is None:\n",
    "            labels = sorted(set(state.values()), key=self._value_index.get)\n",
    "        patches = [mpl.patches.Patch(color=self._categorical_color(l), label=l)\n",
    "                   for l in labels]\n",
    "        plt.legend(handles=patches)\n",
    "\n",
    "        if step == -1:\n",
    "            step = self.steps\n",
    "        if step == 0:\n",
    "            title = 'initial state'\n",
    "        else:\n",
    "            title = 'step %i' % (step)\n",
    "        if self.name:\n",
    "            title = '{}: {}'.format(self.name, title)\n",
    "        plt.title(title)\n",
    "\n",
    "    def plot(self, min_step=None, max_step=None, labels=None, **kwargs):\n",
    "        '''\n",
    "        Use pyplot to plot the relative number of nodes with each state at each\n",
    "        simulation step. By default, plots all simulation steps.\n",
    "\n",
    "        Args:\n",
    "            min_step: the first step of the simulation to draw. Default is\n",
    "                None, which plots starting from the initial state.\n",
    "            max_step: the last step, not inclusive, of the simulation to draw.\n",
    "                Default is None, which plots up to the current step.\n",
    "            labels: ordered sequence of state values to plot. Default is all\n",
    "                observed state values, approximately ordered by appearance.\n",
    "            kwargs: keyword arguments are passed along to plt.plot()\n",
    "\n",
    "        Returns:\n",
    "            Axes object for the current plot\n",
    "        '''\n",
    "        x_range = range(min_step or 0, max_step or len(self._states))\n",
    "        counts = [Counter(s.values()) for s in self._states[min_step:max_step]]\n",
    "        if labels is None:\n",
    "            labels = {k for count in counts for k in count}\n",
    "            labels = sorted(labels, key=self._value_index.get)\n",
    "\n",
    "        for label in labels:\n",
    "            series = [count.get(label, 0) / sum(count.values()) for count in counts]\n",
    "            plt.plot(x_range, series, label=label, **kwargs)\n",
    "\n",
    "        title = 'node state proportions'\n",
    "        if self.name:\n",
    "            title = '{}: {}'.format(self.name, title)\n",
    "        plt.title(title)\n",
    "        plt.xlabel('Simulation step')\n",
    "        plt.ylabel('Proportion of nodes')\n",
    "        plt.legend()\n",
    "        plt.xlim(x_range.start)\n",
    "\n",
    "        return plt.gca()\n",
    "\n",
    "    def run(self, steps=1):\n",
    "        '''\n",
    "        Run the simulation one or more steps, as specified by the `steps`\n",
    "        argument. Default is to run a single step.\n",
    "\n",
    "        Args:\n",
    "            steps: number of steps to advance the simulation.\n",
    "        '''\n",
    "        for _ in range(steps):\n",
    "            try:\n",
    "                self._step()\n",
    "            except StopCondition as e:\n",
    "                print(\n",
    "                    \"Stop condition met at step %i.\" % self.steps\n",
    "                    )\n",
    "                break\n"
   ]
  },
  {
   "cell_type": "markdown",
   "metadata": {},
   "source": [
    "# Monoculture: Hydrogen peroxide chemical induction with edge randomization"
   ]
  },
  {
   "cell_type": "markdown",
   "metadata": {},
   "source": [
    "## Define Network, Initial State, and Transition State"
   ]
  },
  {
   "cell_type": "markdown",
   "metadata": {},
   "source": [
    "## Generate initial network"
   ]
  },
  {
   "cell_type": "code",
   "execution_count": 2,
   "metadata": {},
   "outputs": [],
   "source": [
    "#n=total nodes, m= total edges\n",
    "def mono_bulk_net(n,m,s,h):\n",
    "    # Add nodes to networkX graph object\n",
    "    G = nx.gnm_random_graph(n,m)\n",
    "\n",
    "    # Assign initial conditions to nodes\n",
    "    for x in G.nodes():\n",
    "        nx.set_node_attributes(G, {x:{'s':s, 'GFP':random.gauss(500,250), 'h2o2':h}})\n",
    "\n",
    "    return G"
   ]
  },
  {
   "cell_type": "markdown",
   "metadata": {},
   "source": [
    "## Initial state"
   ]
  },
  {
   "cell_type": "code",
   "execution_count": 3,
   "metadata": {},
   "outputs": [],
   "source": [
    "#Assign initial states of network nodes, for ex:strain type or electrode\n",
    "#In a monoculture they are all just strain L1\n",
    "def initial_state_bulk(G):\n",
    "    # Initialize the state property\n",
    "    state = {}\n",
    "    for g in G.nodes():\n",
    "        state[g] = 'L1'\n",
    "\n",
    "    return state"
   ]
  },
  {
   "cell_type": "markdown",
   "metadata": {},
   "source": [
    "## Transition state"
   ]
  },
  {
   "cell_type": "code",
   "execution_count": 4,
   "metadata": {},
   "outputs": [],
   "source": [
    "#Define a transition state for network to cycle through at each simulation step\n",
    "def trans_mono_bulk(G, current_state):\n",
    "\n",
    "    next_state = {}\n",
    "    \n",
    "    #GENE ACTIVATION AND MOLECULAR PRODUCTION\n",
    "    #If node is within probability to turn on it it then makes GFP based on substrate and h2o2 conc\n",
    "    gfp_active = [x for x in G.nodes if random.uniform(0,1) < 1/(1+np.exp(-.75*(G.nodes[x]['h2o2']-8))) and G.nodes[x]['h2o2'] > 0] \n",
    "    for x in gfp_active:    \n",
    "        G.nodes[x]['GFP'] += 2*G.nodes[x]['s']/(1+np.exp(-(G.nodes[x]['h2o2'])))\n",
    "    \n",
    "    #EDGE RANDOMIZATION\n",
    "    #Randomize edges between L1 population \n",
    "    m = G.number_of_edges()\n",
    "    G.remove_edges_from(G.edges())\n",
    "    edges = [comb for comb in combinations(G.nodes(),2)]\n",
    "    new_edges = random.sample(edges, m)\n",
    "    G.add_edges_from(new_edges)\n",
    "    \n",
    "    #GROWTH MODULE\n",
    "    #If nodes have more than 1 substrate weight they will grow w prob gr, \n",
    "    #by adding new node w edges to itself and up to 10 past neighbors\n",
    "    #Weights are divided by two when this happens\n",
    "    if trans_mono_bulk.counter  >= 1:\n",
    "        prob = gr \n",
    "        growing = [x for x in G.nodes if G.nodes[x]['s'] >= 1 and random.uniform(0,1) < prob]\n",
    "        for g in growing:\n",
    "            k = len(G.nodes)\n",
    "            neighbors = list(G.neighbors(g))\n",
    "            if len(neighbors) <= 10:\n",
    "                    G.add_edge(g,k)\n",
    "                    G.add_node(k,s = G.nodes[g]['s']/2, GFP = G.nodes[g]['GFP'], h2o2 = G.nodes[g]['h2o2']/2)\n",
    "                    G.nodes[g]['s'] , G.nodes[g]['h2o2'] = G.nodes[g]['s']/2, G.nodes[g]['h2o2']/2\n",
    "                    for x in neighbors:\n",
    "                        G.add_edge(k,x)\n",
    "                    current_state[k] = current_state[g]\n",
    "\n",
    "            else:\n",
    "                    d_neighbors = random.sample(neighbors,10)\n",
    "                    G.add_edge(g,k)    \n",
    "                    G.add_node(k,s = G.nodes[g]['s']/2, GFP = G.nodes[g]['GFP'], h2o2 = G.nodes[g]['h2o2']/2)\n",
    "                    G.nodes[g]['s'] , G.nodes[g]['h2o2'] = G.nodes[g]['s']/2, G.nodes[g]['h2o2']/2\n",
    "                    for x in d_neighbors:\n",
    "                        G.add_edge(k,x)\n",
    "                    current_state[k] = current_state[g]\n",
    "\n",
    "    trans_mono_bulk.counter += 1\n",
    "\n",
    "    for node in list(G.nodes):\n",
    "        next_state[node] = current_state[node]\n",
    "\n",
    "    return next_state"
   ]
  },
  {
   "cell_type": "markdown",
   "metadata": {},
   "source": [
    "# Set parameters and run simulation"
   ]
  },
  {
   "cell_type": "code",
   "execution_count": 5,
   "metadata": {
    "collapsed": true,
    "jupyter": {
     "outputs_hidden": true
    },
    "tags": []
   },
   "outputs": [
    {
     "name": "stderr",
     "output_type": "stream",
     "text": [
      "C:\\Users\\kchun\\AppData\\Local\\Temp\\ipykernel_11096\\3650647273.py:67: MatplotlibDeprecationWarning: The get_cmap function was deprecated in Matplotlib 3.7 and will be removed two minor releases later. Use ``matplotlib.colormaps[name]`` or ``matplotlib.colormaps.get_cmap(obj)`` instead.\n",
      "  self._cmap = plt.cm.get_cmap('tab10')\n"
     ]
    },
    {
     "ename": "KeyboardInterrupt",
     "evalue": "",
     "output_type": "error",
     "traceback": [
      "\u001b[1;31m---------------------------------------------------------------------------\u001b[0m",
      "\u001b[1;31mKeyboardInterrupt\u001b[0m                         Traceback (most recent call last)",
      "Cell \u001b[1;32mIn[5], line 15\u001b[0m\n\u001b[0;32m     13\u001b[0m sim \u001b[38;5;241m=\u001b[39m Simulation(G, initial_state_bulk, trans_mono_bulk)\n\u001b[0;32m     14\u001b[0m \u001b[38;5;28;01mfor\u001b[39;00m x \u001b[38;5;129;01min\u001b[39;00m \u001b[38;5;28mrange\u001b[39m(\u001b[38;5;241m0\u001b[39m, steps, \u001b[38;5;241m1\u001b[39m):\n\u001b[1;32m---> 15\u001b[0m     \u001b[43msim\u001b[49m\u001b[38;5;241;43m.\u001b[39;49m\u001b[43mrun\u001b[49m\u001b[43m(\u001b[49m\u001b[43m)\u001b[49m\n\u001b[0;32m     16\u001b[0m     current_state \u001b[38;5;241m=\u001b[39m sim\u001b[38;5;241m.\u001b[39mstate()\n\u001b[0;32m     17\u001b[0m     \u001b[38;5;28;01mfor\u001b[39;00m key \u001b[38;5;129;01min\u001b[39;00m current_state:\n",
      "Cell \u001b[1;32mIn[1], line 225\u001b[0m, in \u001b[0;36mSimulation.run\u001b[1;34m(self, steps)\u001b[0m\n\u001b[0;32m    223\u001b[0m \u001b[38;5;28;01mfor\u001b[39;00m _ \u001b[38;5;129;01min\u001b[39;00m \u001b[38;5;28mrange\u001b[39m(steps):\n\u001b[0;32m    224\u001b[0m     \u001b[38;5;28;01mtry\u001b[39;00m:\n\u001b[1;32m--> 225\u001b[0m         \u001b[38;5;28;43mself\u001b[39;49m\u001b[38;5;241;43m.\u001b[39;49m\u001b[43m_step\u001b[49m\u001b[43m(\u001b[49m\u001b[43m)\u001b[49m\n\u001b[0;32m    226\u001b[0m     \u001b[38;5;28;01mexcept\u001b[39;00m StopCondition \u001b[38;5;28;01mas\u001b[39;00m e:\n\u001b[0;32m    227\u001b[0m         \u001b[38;5;28mprint\u001b[39m(\n\u001b[0;32m    228\u001b[0m             \u001b[38;5;124m\"\u001b[39m\u001b[38;5;124mStop condition met at step \u001b[39m\u001b[38;5;132;01m%i\u001b[39;00m\u001b[38;5;124m.\u001b[39m\u001b[38;5;124m\"\u001b[39m \u001b[38;5;241m%\u001b[39m \u001b[38;5;28mself\u001b[39m\u001b[38;5;241m.\u001b[39msteps\n\u001b[0;32m    229\u001b[0m             )\n",
      "Cell \u001b[1;32mIn[1], line 100\u001b[0m, in \u001b[0;36mSimulation._step\u001b[1;34m(self)\u001b[0m\n\u001b[0;32m     98\u001b[0m     \u001b[38;5;28;01mraise\u001b[39;00m StopCondition\n\u001b[0;32m     99\u001b[0m \u001b[38;5;66;03m#state = nx.get_node_attributes(self.G, 'state')\u001b[39;00m\n\u001b[1;32m--> 100\u001b[0m new_state \u001b[38;5;241m=\u001b[39m \u001b[38;5;28;43mself\u001b[39;49m\u001b[38;5;241;43m.\u001b[39;49m\u001b[43m_state_transition\u001b[49m\u001b[43m(\u001b[49m\u001b[38;5;28;43mself\u001b[39;49m\u001b[38;5;241;43m.\u001b[39;49m\u001b[43mG\u001b[49m\u001b[43m,\u001b[49m\u001b[43m \u001b[49m\u001b[43mstate\u001b[49m\u001b[43m)\u001b[49m\n\u001b[0;32m    101\u001b[0m \u001b[38;5;66;03m#state.update(new_state)\u001b[39;00m\n\u001b[0;32m    102\u001b[0m state \u001b[38;5;241m=\u001b[39m new_state\n",
      "Cell \u001b[1;32mIn[4], line 15\u001b[0m, in \u001b[0;36mtrans_mono_bulk\u001b[1;34m(G, current_state)\u001b[0m\n\u001b[0;32m     13\u001b[0m m \u001b[38;5;241m=\u001b[39m G\u001b[38;5;241m.\u001b[39mnumber_of_edges()\n\u001b[0;32m     14\u001b[0m G\u001b[38;5;241m.\u001b[39mremove_edges_from(G\u001b[38;5;241m.\u001b[39medges())\n\u001b[1;32m---> 15\u001b[0m edges \u001b[38;5;241m=\u001b[39m [comb \u001b[38;5;28;01mfor\u001b[39;00m comb \u001b[38;5;129;01min\u001b[39;00m combinations(G\u001b[38;5;241m.\u001b[39mnodes(),\u001b[38;5;241m2\u001b[39m)]\n\u001b[0;32m     16\u001b[0m new_edges \u001b[38;5;241m=\u001b[39m random\u001b[38;5;241m.\u001b[39msample(edges, m)\n\u001b[0;32m     17\u001b[0m G\u001b[38;5;241m.\u001b[39madd_edges_from(new_edges)\n",
      "Cell \u001b[1;32mIn[4], line 15\u001b[0m, in \u001b[0;36m<listcomp>\u001b[1;34m(.0)\u001b[0m\n\u001b[0;32m     13\u001b[0m m \u001b[38;5;241m=\u001b[39m G\u001b[38;5;241m.\u001b[39mnumber_of_edges()\n\u001b[0;32m     14\u001b[0m G\u001b[38;5;241m.\u001b[39mremove_edges_from(G\u001b[38;5;241m.\u001b[39medges())\n\u001b[1;32m---> 15\u001b[0m edges \u001b[38;5;241m=\u001b[39m [comb \u001b[38;5;28;01mfor\u001b[39;00m comb \u001b[38;5;129;01min\u001b[39;00m combinations(G\u001b[38;5;241m.\u001b[39mnodes(),\u001b[38;5;241m2\u001b[39m)]\n\u001b[0;32m     16\u001b[0m new_edges \u001b[38;5;241m=\u001b[39m random\u001b[38;5;241m.\u001b[39msample(edges, m)\n\u001b[0;32m     17\u001b[0m G\u001b[38;5;241m.\u001b[39madd_edges_from(new_edges)\n",
      "\u001b[1;31mKeyboardInterrupt\u001b[0m: "
     ]
    }
   ],
   "source": [
    "import time\n",
    "#Set simulation weight increments and thresholds\n",
    "steps = 400 #total steps of simulation\n",
    "gr = 0.015 #growth probability\n",
    "h_range = [0,1.56, 3.13, 6.25, 12.5, 25, 50, 100] #test range of initial h2o2 concentrations\n",
    "start = time.time()\n",
    "#Run multiple times and save\n",
    "for k in range(10): \n",
    "    data = []\n",
    "    for h in h_range:\n",
    "        trans_mono_bulk.counter = 0 #initialize counter to keep track of simulation step\n",
    "        G = mono_bulk_net(100, 200, 20, h)\n",
    "        sim = Simulation(G, initial_state_bulk, trans_mono_bulk)\n",
    "        for x in range(0, steps, 1):\n",
    "            sim.run()\n",
    "            current_state = sim.state()\n",
    "            for key in current_state:\n",
    "                data.append([k, current_state[key], key, h, x, sim.props(key)['h2o2'],   sim.props(key)['GFP'], sim.props(key)['s']])\n",
    "            \n",
    "  #Change lists to DF\n",
    "    mono_bulk_df = pd.DataFrame(data)\n",
    "    mono_bulk_df.columns = ['Rep','Strain', 'Node', 'Initial H2O2', 'Step', 'H2O2', 'GFP','Substrate']\n",
    "    mono_bulk_df.to_csv('filename' + str(k) + '.csv', index=False)\n",
    "\n",
    "    elapsed = time.time() - start\n",
    "    print(elapsed/60)"
   ]
  },
  {
   "cell_type": "code",
   "execution_count": 5,
   "metadata": {},
   "outputs": [
    {
     "name": "stdout",
     "output_type": "stream",
     "text": [
      "0.5832676847775777\n"
     ]
    }
   ],
   "source": [
    "#Setup simulation for saving graph object for later modularity calculations\n",
    "import time\n",
    "#Set simulation weight increments and thresholds\n",
    "steps = 400 #total steps of simulation\n",
    "gr = 0.015 #growth probability\n",
    "h_range = [0,1.56, 3.13, 6.25, 12.5, 25, 50, 100] #test range of initial h2o2 concentrations\n",
    "hours = [0, 120, 240, 360]\n",
    "graphs = {}\n",
    "start = time.time()\n",
    "\n",
    "#Run multiple times and save\n",
    "for k in range(1): \n",
    "    data = []\n",
    "    for h in h_range:\n",
    "        trans_mono_bulk.counter = 0\n",
    "        G = mono_bulk_net(100, 200, 20, h)\n",
    "        sim = Simulation(G, initial_state_bulk, trans_mono_bulk)\n",
    "        sim.run(180)\n",
    "        graphs[h] = sim.graph()\n",
    "\n",
    "\n",
    "    elapsed = time.time() - start\n",
    "    print(elapsed/60)"
   ]
  },
  {
   "cell_type": "code",
   "execution_count": 6,
   "metadata": {},
   "outputs": [],
   "source": [
    "import community as community_louvain\n",
    "import community\n",
    "partition = {}\n",
    "modularity = {}\n",
    "for h in h_range:\n",
    "    partition[h] = community_louvain.best_partition(graphs[h])\n",
    "    modularity[h] = community.modularity(partition[h], graphs[h])"
   ]
  },
  {
   "cell_type": "code",
   "execution_count": 15,
   "metadata": {},
   "outputs": [
    {
     "data": {
      "text/plain": [
       "(0.2060819599726178, 0.0012867543521293326)"
      ]
     },
     "execution_count": 15,
     "metadata": {},
     "output_type": "execute_result"
    }
   ],
   "source": [
    "mod_avg = np.mean(list(modularity.values()))\n",
    "mod_std = np.std(list(modularity.values()))\n",
    "mod_avg, mod_std"
   ]
  },
  {
   "cell_type": "code",
   "execution_count": 16,
   "metadata": {},
   "outputs": [
    {
     "data": {
      "text/plain": [
       "{0: 0.2047530267682355,\n",
       " 1.56: 0.20610681092802455,\n",
       " 3.13: 0.20772137651650785,\n",
       " 6.25: 0.2067393336089126,\n",
       " 12.5: 0.20631985125575955,\n",
       " 25: 0.20451729469675084,\n",
       " 50: 0.20795175790394077,\n",
       " 100: 0.20454622810281056}"
      ]
     },
     "execution_count": 16,
     "metadata": {},
     "output_type": "execute_result"
    }
   ],
   "source": [
    "modularity"
   ]
  }
 ],
 "metadata": {
  "kernelspec": {
   "display_name": "Python 3 (ipykernel)",
   "language": "python",
   "name": "python3"
  },
  "language_info": {
   "codemirror_mode": {
    "name": "ipython",
    "version": 3
   },
   "file_extension": ".py",
   "mimetype": "text/x-python",
   "name": "python",
   "nbconvert_exporter": "python",
   "pygments_lexer": "ipython3",
   "version": "3.11.5"
  }
 },
 "nbformat": 4,
 "nbformat_minor": 4
}
