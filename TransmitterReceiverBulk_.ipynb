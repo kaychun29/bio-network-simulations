{
 "cells": [
  {
   "cell_type": "markdown",
   "metadata": {
    "id": "18aty2LiY_Pw"
   },
   "source": [
    "# Import packages and Simulation class"
   ]
  },
  {
   "cell_type": "code",
   "execution_count": 2,
   "metadata": {
    "id": "gNbSLC_rYyXl"
   },
   "outputs": [],
   "source": [
    "## Allows for figure rendering in notebook\n",
    "%matplotlib inline\n",
    "'''\n",
    "Simulation class for Chapter 7 Tutorial of Intro Network Science book\n",
    "\n",
    "Copyright 2018 Indiana University and Cambridge University Press\n",
    "'''\n",
    "\n",
    "from collections import Counter\n",
    "from operator import itemgetter\n",
    "import matplotlib as mpl\n",
    "import matplotlib.pyplot as plt\n",
    "import networkx as nx\n",
    "import random\n",
    "import numpy as np\n",
    "import math\n",
    "import seaborn as sns\n",
    "import pandas as pd\n",
    "import math\n",
    "from itertools import combinations\n",
    "\n",
    "class StopCondition(StopIteration):\n",
    "    pass\n",
    "\n",
    "class Simulation:\n",
    "    '''Simulate state transitions on a network'''\n",
    "\n",
    "    def __init__(self, G, initial_state, state_transition,\n",
    "            stop_condition=None, name=''):\n",
    "        '''\n",
    "        Create a Simulation instance.\n",
    "\n",
    "        Args:\n",
    "            G: a networkx.Graph instance.\n",
    "            initial_state: function with signature `initial_state(G)`, that\n",
    "                accepts a single argument, the Graph, and returns a dictionary\n",
    "                of all node states. The keys in this dict should be node names\n",
    "                and the values the corresponding initial node state.\n",
    "            state_transition: function with signature\n",
    "                `state_transition(G, current_state)` that accepts two\n",
    "                arguments, the Graph and a dictionary of current node states,\n",
    "                and returns a dictionary of updated node states. The keys in\n",
    "                this dict should be node names and the values the corresponding\n",
    "                updated node state.\n",
    "            stop_condition (optional): function with signature\n",
    "                `stop_condition(G, current_state)` that accepts two arguments,\n",
    "                the Graph and a dictionary of current node states, and returns\n",
    "                True if the simulation should be stopped at its current state.\n",
    "\n",
    "        Keyword Args:\n",
    "            name (optional): a string used in titles of plots and drawings.\n",
    "\n",
    "        Raises:\n",
    "            ValueError: if not all graph nodes have an initial state.\n",
    "        '''\n",
    "        self.G = G.copy()\n",
    "        self._initial_state = initial_state\n",
    "        self._state_transition = state_transition\n",
    "        self._stop_condition = stop_condition\n",
    "        # It's okay to specify stop_condition=False\n",
    "        if stop_condition and not callable(stop_condition):\n",
    "            raise TypeError(\"'stop_condition' should be a function\")\n",
    "        self.name = name or 'Simulation'\n",
    "\n",
    "        self._states = []\n",
    "        self._value_index = {}\n",
    "        self._cmap = plt.cm.get_cmap('tab10')\n",
    "\n",
    "        self._initialize()\n",
    "\n",
    "        self._pos = nx.layout.spring_layout(G)\n",
    "\n",
    "    def _append_state(self, state):\n",
    "        self._states.append(state)\n",
    "        # Update self._value_index\n",
    "        for value in set(state.values()):\n",
    "            if value not in self._value_index:\n",
    "                self._value_index[value] = len(self._value_index)\n",
    "\n",
    "    def _initialize(self):\n",
    "        if self._initial_state:\n",
    "            if callable(self._initial_state):\n",
    "                state = self._initial_state(self.G)\n",
    "            else:\n",
    "                state = self._initial_state\n",
    "            nx.set_node_attributes(self.G, state, 'state')\n",
    "\n",
    "        if any(self.G.nodes[n].get('state') is None for n in self.G.nodes):\n",
    "            raise ValueError('All nodes must have an initial state')\n",
    "\n",
    "        self._append_state(state)\n",
    "\n",
    "    def _step(self):\n",
    "        # We're choosing to use the node attributes as the source of truth.\n",
    "        # This allows the user to manually perturb the network in between steps.\n",
    "        state = nx.get_node_attributes(self.G, 'state')\n",
    "        if self._stop_condition and self._stop_condition(self.G, state):\n",
    "            raise StopCondition\n",
    "        #state = nx.get_node_attributes(self.G, 'state')\n",
    "        new_state = self._state_transition(self.G, state)\n",
    "        #state.update(new_state)\n",
    "        state = new_state\n",
    "        nx.set_node_attributes(self.G, state, 'state')\n",
    "        self._append_state(state)\n",
    "\n",
    "    def _categorical_color(self, value):\n",
    "        index = self._value_index[value]\n",
    "        node_color = self._cmap(index)\n",
    "        return node_color\n",
    "\n",
    "    @property\n",
    "    def steps(self):\n",
    "        ''' Returns the number of steps the sumulation has run '''\n",
    "        return len(self._states) - 1\n",
    "\n",
    "    def state(self, step=-1):\n",
    "        '''\n",
    "        Get a state of the simulation; by default returns the current state.\n",
    "\n",
    "        Args:\n",
    "            step: the step of the simulation to return. Default is -1, the\n",
    "            current state.\n",
    "\n",
    "        Returns:\n",
    "            Dictionary of node states.\n",
    "\n",
    "        Raises:\n",
    "            IndexError: if `step` argument is greater than the number of steps.\n",
    "        '''\n",
    "        try:\n",
    "            return self._states[step]\n",
    "        except IndexError:\n",
    "            raise IndexError('Simulation step %i out of range' % step)\n",
    "    \n",
    "    def props(self,num):\n",
    "      return self.G.nodes[num]\n",
    "    \n",
    "    def graph(self):\n",
    "      return self.G\n",
    "    \n",
    "    def num_nodes(self):\n",
    "      return self.G.number_of_nodes()\n",
    "\n",
    "    def draw(self, step=-1, labels=None, **kwargs):\n",
    "        '''\n",
    "        Use networkx.draw to draw a simulation state with nodes colored by\n",
    "        their state value. By default, draws the current state.\n",
    "\n",
    "        Args:\n",
    "            step: the step of the simulation to draw. Default is -1, the\n",
    "            current state.\n",
    "            kwargs: keyword arguments are passed to networkx.draw()\n",
    "\n",
    "        Raises:\n",
    "            IndexError: if `step` argument is greater than the number of steps.\n",
    "        '''\n",
    "        state = self.state(step)\n",
    "        node_colors = [self._categorical_color(state[n]) for n in self.G.nodes]\n",
    "        nx.draw(self.G, pos=self._pos, node_color=node_colors, **kwargs)\n",
    "\n",
    "        if labels is None:\n",
    "            labels = sorted(set(state.values()), key=self._value_index.get)\n",
    "        patches = [mpl.patches.Patch(color=self._categorical_color(l), label=l)\n",
    "                   for l in labels]\n",
    "        plt.legend(handles=patches)\n",
    "\n",
    "        if step == -1:\n",
    "            step = self.steps\n",
    "        if step == 0:\n",
    "            title = 'initial state'\n",
    "        else:\n",
    "            title = 'step %i' % (step)\n",
    "        if self.name:\n",
    "            title = '{}: {}'.format(self.name, title)\n",
    "        plt.title(title)\n",
    "\n",
    "    def plot(self, min_step=None, max_step=None, labels=None, **kwargs):\n",
    "        '''\n",
    "        Use pyplot to plot the relative number of nodes with each state at each\n",
    "        simulation step. By default, plots all simulation steps.\n",
    "\n",
    "        Args:\n",
    "            min_step: the first step of the simulation to draw. Default is\n",
    "                None, which plots starting from the initial state.\n",
    "            max_step: the last step, not inclusive, of the simulation to draw.\n",
    "                Default is None, which plots up to the current step.\n",
    "            labels: ordered sequence of state values to plot. Default is all\n",
    "                observed state values, approximately ordered by appearance.\n",
    "            kwargs: keyword arguments are passed along to plt.plot()\n",
    "\n",
    "        Returns:\n",
    "            Axes object for the current plot\n",
    "        '''\n",
    "        x_range = range(min_step or 0, max_step or len(self._states))\n",
    "        counts = [Counter(s.values()) for s in self._states[min_step:max_step]]\n",
    "        if labels is None:\n",
    "            labels = {k for count in counts for k in count}\n",
    "            labels = sorted(labels, key=self._value_index.get)\n",
    "\n",
    "        for label in labels:\n",
    "            series = [count.get(label, 0) / sum(count.values()) for count in counts]\n",
    "            plt.plot(x_range, series, label=label, **kwargs)\n",
    "\n",
    "        title = 'node state proportions'\n",
    "        if self.name:\n",
    "            title = '{}: {}'.format(self.name, title)\n",
    "        plt.title(title)\n",
    "        plt.xlabel('Simulation step')\n",
    "        plt.ylabel('Proportion of nodes')\n",
    "        plt.legend()\n",
    "        plt.xlim(x_range.start)\n",
    "\n",
    "        return plt.gca()\n",
    "\n",
    "    def run(self, steps=1):\n",
    "        '''\n",
    "        Run the simulation one or more steps, as specified by the `steps`\n",
    "        argument. Default is to run a single step.\n",
    "\n",
    "        Args:\n",
    "            steps: number of steps to advance the simulation.\n",
    "        '''\n",
    "        for _ in range(steps):\n",
    "            try:\n",
    "                self._step()\n",
    "            except StopCondition as e:\n",
    "                print(\n",
    "                    \"Stop condition met at step %i.\" % self.steps\n",
    "                    )\n",
    "                break\n"
   ]
  },
  {
   "cell_type": "markdown",
   "metadata": {},
   "source": [
    "# Transmitter Receiver: Hydrogen Peroxide Bulk Addition"
   ]
  },
  {
   "cell_type": "markdown",
   "metadata": {},
   "source": [
    "## Generate initial network"
   ]
  },
  {
   "cell_type": "code",
   "execution_count": 3,
   "metadata": {},
   "outputs": [],
   "source": [
    "#n=total nodes-1, m= total edges-1, s=initial substrate, h=initial peroxide added\n",
    "def trans_bulk_net(n,m,s,h):\n",
    "  # random.seed(100) set seed for reproducibility\n",
    "\n",
    "  # Add nodes to networkX graph object\n",
    "  G = nx.gnm_random_graph(n,m)\n",
    "\n",
    "  # Assign node weights to zero, except initial peroxide conc\n",
    "  for x in G.nodes():\n",
    "    nx.set_node_attributes(G, {x:{'s':s, 'QS':0, 'GFP':random.gauss(500,250), 'h2o2':h}})\n",
    "\n",
    "  return G"
   ]
  },
  {
   "cell_type": "markdown",
   "metadata": {},
   "source": [
    "## Initial state"
   ]
  },
  {
   "cell_type": "code",
   "execution_count": 8,
   "metadata": {},
   "outputs": [],
   "source": [
    "def initial_state_trans_bulk(G):\n",
    "  \n",
    "    # Initialize the state property\n",
    "    state = {}\n",
    "    for g in G.nodes():\n",
    "        state[g] = 'L1'\n",
    "\n",
    "    tot = G.number_of_nodes()\n",
    "    tnodes = random.sample(G.nodes, round(tot*0.1))\n",
    "    for node in tnodes:\n",
    "        state[node] = 'Transmitter'\n",
    "\n",
    "\n",
    "    return state"
   ]
  },
  {
   "cell_type": "markdown",
   "metadata": {},
   "source": [
    "## Transistion state"
   ]
  },
  {
   "cell_type": "code",
   "execution_count": 5,
   "metadata": {},
   "outputs": [],
   "source": [
    "def trans_trans_bulk(G, current_state):\n",
    "    next_state = {}\n",
    "    \n",
    "    #Transmitters make AI-1 above h2o2 thresh\n",
    "    trans_active = [x for x in G.nodes if current_state[x] == 'Transmitter' and random.uniform(0,1) < 1/(1+np.exp(-.5*(G.nodes[x]['h2o2']-8))) and G.nodes[x]['h2o2'] > 0]\n",
    "    for node in trans_active:\n",
    "        G.nodes[node]['QS'] += 2*G.nodes[node]['s']/(1+np.exp(-(G.nodes[node]['h2o2'])))\n",
    "        G.nodes[node]['GFP'] += 2*G.nodes[node]['s']/(1+np.exp(-(G.nodes[node]['h2o2'])))\n",
    "\n",
    "    #Receivers make GFP based on AI-1\n",
    "    receiver_active = [x for x in G.nodes if current_state[x] == 'L1' and random.uniform(0,1) < (1/(1+np.exp(-(50*(G.nodes[x]['QS']-.25))))) and G.nodes[x]['QS'] > 0]\n",
    "   # 0307 receiver_active = [x for x in G.nodes if current_state[x] == 'L1' and random.uniform(0,1) < (1/(1+np.exp(-(50*(G.nodes[x]['QS']-.15))))) and G.nodes[x]['QS'] > 0]\n",
    "    for node in receiver_active:\n",
    "        #G.nodes[node]['GFP'] += 10*G.nodes[node]['s']/(1+math.exp(-.1*(G.nodes[node]['QS']-3)))\n",
    "        G.nodes[node]['GFP'] += (G.nodes[node]['QS']*G.nodes[node]['s'])/5 \n",
    "        # 0307 G.nodes[node]['GFP'] += (G.nodes[node]['QS']*G.nodes[node]['s'])/4\n",
    "    \n",
    "    J = G.copy()\n",
    "    for node in list(G.nodes):\n",
    "      #Diffusion of AI-1 through network\n",
    "        ci = G.nodes[node]['QS'] #set current concentration of this node\n",
    "        G.nodes[node]['QS'] = ci + alpha * (\\\n",
    "                                sum(J.nodes[j]['QS'] for j in J.neighbors(node))\\\n",
    "                                -ci * J.degree(node)) *Dt \n",
    "\n",
    "    #Randomize edges between all nodes\n",
    "    m = G.number_of_edges()\n",
    "    G.remove_edges_from(G.edges())\n",
    "    edges = [comb for comb in combinations(G.nodes(),2)]\n",
    "    new_edges = random.sample(edges, m)\n",
    "    G.add_edges_from(new_edges)\n",
    "   \n",
    "    #If nodes have more than 1 substrate weight they will grow by adding new node w edges to itself and neighbors\n",
    "    #Weights are divided by two when this happens\n",
    "    if trans_trans_bulk.counter > 0:\n",
    "        prob = gr \n",
    "        growing = [x for x in G.nodes if G.nodes[x]['s'] >= 1 and random.uniform(0,1) < prob]\n",
    "        for g in growing:\n",
    "            k = len(G.nodes) + 1\n",
    "            neighbors = list(G.neighbors(g))\n",
    "            if len(neighbors) <= 10:\n",
    "                    G.add_edge(g,k)\n",
    "                    G.add_node(k,s = G.nodes[g]['s']/2, GFP = G.nodes[g]['GFP'], h2o2 = G.nodes[g]['h2o2']/2, QS = G.nodes[g]['QS']/2)\n",
    "                    G.nodes[g]['s'] , G.nodes[g]['h2o2'], G.nodes[g]['QS'] = G.nodes[g]['s']/2, G.nodes[g]['h2o2']/2, G.nodes[g]['QS']/2\n",
    "                    for x in neighbors:\n",
    "                        G.add_edge(k,x)\n",
    "                    current_state[k] = current_state[g]\n",
    "\n",
    "            else:\n",
    "                    d_neighbors = random.sample(neighbors,10)\n",
    "                    G.add_edge(g,k)    \n",
    "                    G.add_node(k,s = G.nodes[g]['s']/2, GFP = G.nodes[g]['GFP'], h2o2 = G.nodes[g]['h2o2']/2, QS = G.nodes[g]['QS']/2)\n",
    "                    G.nodes[g]['s'] , G.nodes[g]['h2o2'], G.nodes[g]['QS'] = G.nodes[g]['s']/2, G.nodes[g]['h2o2']/2,  G.nodes[g]['QS']/2\n",
    "                    for x in d_neighbors:\n",
    "                        G.add_edge(k,x)\n",
    "                    current_state[k] = current_state[g]\n",
    "                    \n",
    "    trans_trans_bulk.counter += 1\n",
    "    \n",
    "    for node in list(G.nodes):\n",
    "        next_state[node] = current_state[node]\n",
    "\n",
    "    return next_state"
   ]
  },
  {
   "cell_type": "markdown",
   "metadata": {
    "id": "oV2WWYiJ8vlL"
   },
   "source": [
    "## Set parameters and run simulation"
   ]
  },
  {
   "cell_type": "code",
   "execution_count": 9,
   "metadata": {
    "id": "rybGYCUHIokZ"
   },
   "outputs": [
    {
     "name": "stdout",
     "output_type": "stream",
     "text": [
      "17.81991984049479\n",
      "17.262233491738638\n",
      "16.731136186917624\n",
      "16.8094601949056\n",
      "13.584063835938771\n",
      "12.445772135257721\n",
      "13.003049445152282\n",
      "12.741881223519643\n",
      "12.771534848213197\n",
      "11.522589341799419\n"
     ]
    }
   ],
   "source": [
    "##Set simulation weight increments and thresholds\n",
    "import time\n",
    "\n",
    "#Storage\n",
    "trans_bulk = {}\n",
    "steps = 400\n",
    "alpha = 1\n",
    "Dt = 0.01\n",
    "gr = 0.015 #growth probability\n",
    "\n",
    "#Test range of charge times, during charge time there's no growth so t_charge=lag_time\n",
    "h_range = [0, 1.56, 3.13, 6.25, 12.5, 25, 50, 100] #initial h2o2 concentrations to test\n",
    "\n",
    "for k in range(10):\n",
    "    start = time.time()\n",
    "    data = []\n",
    "    for h in h_range:\n",
    "        trans_trans_bulk.counter = 0\n",
    "        G = trans_bulk_net(100, 200, 20, h)\n",
    "        sim = Simulation(G, initial_state_trans_bulk, trans_trans_bulk)\n",
    "        for x in range(0, steps, 1):\n",
    "          sim.run()\n",
    "          current_state = sim.state()\n",
    "          for key in current_state:\n",
    "            data.append([current_state[key], key, h, x, sim.props(key)['h2o2'], sim.props(key)['QS'], sim.props(key)['GFP'], sim.props(key)['s']])\n",
    "\n",
    "  #Change lists to DF\n",
    "    trans_bulk_df = pd.DataFrame(data)\n",
    "    trans_bulk_df.columns = ['Strain', 'Node', 'Initial H2O2', 'Step', 'H2O2', 'QS', 'GFP', 'Substrate']\n",
    "    trans_bulk_df.to_csv('20230726_trans_bulk_' + str(k) +'.csv', index=False)\n",
    "    print((time.time() - start)/60)"
   ]
  },
  {
   "cell_type": "code",
   "execution_count": 11,
   "metadata": {},
   "outputs": [
    {
     "name": "stderr",
     "output_type": "stream",
     "text": [
      "C:\\ProgramData\\anaconda3\\lib\\site-packages\\pandas\\core\\arraylike.py:402: RuntimeWarning: invalid value encountered in log10\n",
      "  result = getattr(ufunc, method)(*inputs, **kwargs)\n"
     ]
    },
    {
     "data": {
      "text/plain": [
       "<seaborn.axisgrid.FacetGrid at 0x1d0f5d7e200>"
      ]
     },
     "execution_count": 11,
     "metadata": {},
     "output_type": "execute_result"
    },
    {
     "data": {
      "image/png": "[encoded data removed]",
      "text/plain": [
       "<Figure size 490x560 with 8 Axes>"
      ]
     },
     "metadata": {},
     "output_type": "display_data"
    }
   ],
   "source": [
    "sns.set_theme(style=\"white\", rc={\"axes.facecolor\": (0, 0, 0, 0)})\n",
    "\n",
    "# Create the data\n",
    "\n",
    "data = trans_bulk_df\n",
    "df = data[data['Step']== 360]\n",
    "\n",
    "# Initialize the FacetGrid object\n",
    "pal = sns.cubehelix_palette(10, rot=-.25, light=.7)\n",
    "g = sns.FacetGrid(df, row=\"Initial H2O2\", hue=\"Initial H2O2\", aspect=7, height=.7, palette='Greens')\n",
    "\n",
    "# Draw the densities in a few steps\n",
    "g.map(sns.kdeplot, \"GFP\", log_scale=True, edgecolor='black',fill=True)\n",
    "#g.map(sns.histplot, \"GFP\", kde=True, edgecolor = 'white', color='black', log_scale=True)\n",
    "#g.map(sns.histplot, \"GFP\", alpha = 1, log_scale=True)\n",
    "g.map(plt.axvline, x=1000, ls=':', c = 'black')\n",
    "\n",
    "# passing color=None to refline() uses the hue mapping\n",
    "#g.refline(y=0, linewidth=2, linestyle=\"-\", color=None, clip_on=False)\n",
    "g.map(plt.axhline, y=0, linewidth=2, linestyle=\"-\", color=None, clip_on=False)\n",
    "\n",
    "# Define and use a simple function to label the plot in axes coordinates\n",
    "def label(x, color, label):\n",
    "    ax = plt.gca()\n",
    "    ax.text(-0.1, 0.2, label,  color=color,\n",
    "            ha=\"left\", va=\"center\", transform=ax.transAxes)\n",
    "\n",
    "\n",
    "g.map(label, \"GFP\", color='black')\n",
    "\n",
    "# Set the subplots to overlap\n",
    "g.fig.subplots_adjust(hspace=-.5)\n",
    "\n",
    "# Remove axes details that don't play well with overlap\n",
    "plt.xlim([1,100000])\n",
    "g.set_titles(\"\")\n",
    "g.set(yticks=[], ylabel=\"\")\n",
    "g.despine(bottom=True, left=True)\n",
    "#plt.title('20220919 mono_bulk', loc = 'right')\n",
    "#plt.savefig('20230110 mono_bulk', transparent=True, bbox_inches='tight')"
   ]
  },
  {
   "cell_type": "code",
   "execution_count": 22,
   "metadata": {},
   "outputs": [
    {
     "name": "stderr",
     "output_type": "stream",
     "text": [
      "<ipython-input-22-a890d14d2fc1>:1: UserWarning: Boolean Series key will be reindexed to match DataFrame index.\n",
      "  a = trans_bulk_df[trans_bulk_df['Initial H2O2']==100][trans_bulk_df['Node']==14]\n"
     ]
    },
    {
     "data": {
      "text/plain": [
       "5999.545724734535"
      ]
     },
     "execution_count": 22,
     "metadata": {},
     "output_type": "execute_result"
    }
   ],
   "source": [
    "a = trans_bulk_df[trans_bulk_df['Initial H2O2']==100][trans_bulk_df['Node']==14]\n",
    "print(np.sum(a['QS']*a['Substrate']/10))\n",
    "print(a[a['Step']==50]['GFP'])\n",
    "print(a[a['Step']==360]['GFP'])"
   ]
  },
  {
   "cell_type": "code",
   "execution_count": 116,
   "metadata": {},
   "outputs": [
    {
     "name": "stderr",
     "output_type": "stream",
     "text": [
      "C:\\Users\\Austin\\anaconda3\\lib\\site-packages\\seaborn\\distributions.py:305: UserWarning: Dataset has 0 variance; skipping density estimate.\n",
      "  warnings.warn(msg, UserWarning)\n"
     ]
    },
    {
     "data": {
      "text/plain": [
       "<seaborn.axisgrid.FacetGrid at 0x210318c2700>"
      ]
     },
     "execution_count": 116,
     "metadata": {},
     "output_type": "execute_result"
    },
    {
     "data": {
      "image/png": "[encoded data removed]",
      "text/plain": [
       "<Figure size 302.4x403.2 with 8 Axes>"
      ]
     },
     "metadata": {},
     "output_type": "display_data"
    }
   ],
   "source": [
    "sns.set_theme(style=\"white\", rc={\"axes.facecolor\": (0, 0, 0, 0)})\n",
    "\n",
    "# Create the data\n",
    "\n",
    "data = trans_bulk_df[trans_bulk_df['Strain']=='Transmitter']\n",
    "df = data[data['Step']== 360]\n",
    "\n",
    "# Initialize the FacetGrid object\n",
    "pal = sns.cubehelix_palette(10, rot=-.25, light=.7)\n",
    "g = sns.FacetGrid(df, row=\"Initial H2O2\", hue=\"Initial H2O2\", aspect=6, height=.7, palette='Purples')\n",
    "\n",
    "# Draw the densities in a few steps\n",
    "g.map(sns.histplot, \"QS\", kde=True, edgecolor = 'white', color='black')\n",
    "g.map(sns.histplot, \"QS\", alpha = 1)\n",
    "#g.map(plt.axvline, x=1000, ls='--', c = 'black')\n",
    "\n",
    "# passing color=None to refline() uses the hue mapping\n",
    "#g.refline(y=0, linewidth=2, linestyle=\"-\", color=None, clip_on=False)\n",
    "g.map(plt.axhline, y=0, linewidth=2, linestyle=\"-\", color=None, clip_on=False)\n",
    "\n",
    "# Define and use a simple function to label the plot in axes coordinates\n",
    "def label(x, color, label):\n",
    "    ax = plt.gca()\n",
    "    ax.text(-0.1, 0.2, label,  color=color,\n",
    "            ha=\"left\", va=\"center\", transform=ax.transAxes)\n",
    "\n",
    "\n",
    "g.map(label, \"GFP\", color='black')\n",
    "\n",
    "# Set the subplots to overlap\n",
    "g.fig.subplots_adjust(hspace=-.25)\n",
    "\n",
    "# Remove axes details that don't play well with overlap\n",
    "#plt.xlim([1,100000])\n",
    "g.set_titles(\"\")\n",
    "g.set(yticks=[], ylabel=\"\")\n",
    "g.despine(bottom=True, left=True)\n",
    "#plt.title('20220919 mono_bulk', loc = 'right')\n",
    "#plt.savefig('20230110 mono_bulk', transparent=True, bbox_inches='tight')"
   ]
  },
  {
   "cell_type": "code",
   "execution_count": 77,
   "metadata": {},
   "outputs": [
    {
     "name": "stderr",
     "output_type": "stream",
     "text": [
      "<ipython-input-77-573c553b00f1>:1: UserWarning: Boolean Series key will be reindexed to match DataFrame index.\n",
      "  plt.plot(trans_bulk_df[trans_bulk_df['QS']>0][trans_bulk_df['Strain']=='L1'][trans_bulk_df['Initial H2O2']==0]['Step'], trans_bulk_df[trans_bulk_df['QS']>0][trans_bulk_df['Strain']=='L1'][trans_bulk_df['Initial H2O2']==0]['QS'])\n",
      "<ipython-input-77-573c553b00f1>:1: UserWarning: Boolean Series key will be reindexed to match DataFrame index.\n",
      "  plt.plot(trans_bulk_df[trans_bulk_df['QS']>0][trans_bulk_df['Strain']=='L1'][trans_bulk_df['Initial H2O2']==0]['Step'], trans_bulk_df[trans_bulk_df['QS']>0][trans_bulk_df['Strain']=='L1'][trans_bulk_df['Initial H2O2']==0]['QS'])\n",
      "<ipython-input-77-573c553b00f1>:1: UserWarning: Boolean Series key will be reindexed to match DataFrame index.\n",
      "  plt.plot(trans_bulk_df[trans_bulk_df['QS']>0][trans_bulk_df['Strain']=='L1'][trans_bulk_df['Initial H2O2']==0]['Step'], trans_bulk_df[trans_bulk_df['QS']>0][trans_bulk_df['Strain']=='L1'][trans_bulk_df['Initial H2O2']==0]['QS'])\n",
      "<ipython-input-77-573c553b00f1>:1: UserWarning: Boolean Series key will be reindexed to match DataFrame index.\n",
      "  plt.plot(trans_bulk_df[trans_bulk_df['QS']>0][trans_bulk_df['Strain']=='L1'][trans_bulk_df['Initial H2O2']==0]['Step'], trans_bulk_df[trans_bulk_df['QS']>0][trans_bulk_df['Strain']=='L1'][trans_bulk_df['Initial H2O2']==0]['QS'])\n"
     ]
    },
    {
     "data": {
      "text/plain": [
       "[<matplotlib.lines.Line2D at 0x2105758fbe0>]"
      ]
     },
     "execution_count": 77,
     "metadata": {},
     "output_type": "execute_result"
    },
    {
     "data": {
      "image/png": "[encoded data removed]",
      "text/plain": [
       "<Figure size 432x288 with 1 Axes>"
      ]
     },
     "metadata": {},
     "output_type": "display_data"
    }
   ],
   "source": [
    "plt.plot(trans_bulk_df[trans_bulk_df['QS']>0][trans_bulk_df['Strain']=='L1'][trans_bulk_df['Initial H2O2']==0]['Step'], trans_bulk_df[trans_bulk_df['QS']>0][trans_bulk_df['Strain']=='L1'][trans_bulk_df['Initial H2O2']==0]['QS'])"
   ]
  },
  {
   "cell_type": "code",
   "execution_count": 117,
   "metadata": {},
   "outputs": [
    {
     "name": "stderr",
     "output_type": "stream",
     "text": [
      "<ipython-input-117-445af1435a5b>:1: UserWarning: Boolean Series key will be reindexed to match DataFrame index.\n",
      "  plt.plot(trans_bulk_df[trans_bulk_df['QS']>0][trans_bulk_df['Strain']=='L1'][trans_bulk_df['Initial H2O2']==1.56]['Step'], trans_bulk_df[trans_bulk_df['QS']>0][trans_bulk_df['Strain']=='L1'][trans_bulk_df['Initial H2O2']==1.56]['QS'])\n",
      "<ipython-input-117-445af1435a5b>:1: UserWarning: Boolean Series key will be reindexed to match DataFrame index.\n",
      "  plt.plot(trans_bulk_df[trans_bulk_df['QS']>0][trans_bulk_df['Strain']=='L1'][trans_bulk_df['Initial H2O2']==1.56]['Step'], trans_bulk_df[trans_bulk_df['QS']>0][trans_bulk_df['Strain']=='L1'][trans_bulk_df['Initial H2O2']==1.56]['QS'])\n",
      "<ipython-input-117-445af1435a5b>:1: UserWarning: Boolean Series key will be reindexed to match DataFrame index.\n",
      "  plt.plot(trans_bulk_df[trans_bulk_df['QS']>0][trans_bulk_df['Strain']=='L1'][trans_bulk_df['Initial H2O2']==1.56]['Step'], trans_bulk_df[trans_bulk_df['QS']>0][trans_bulk_df['Strain']=='L1'][trans_bulk_df['Initial H2O2']==1.56]['QS'])\n",
      "<ipython-input-117-445af1435a5b>:1: UserWarning: Boolean Series key will be reindexed to match DataFrame index.\n",
      "  plt.plot(trans_bulk_df[trans_bulk_df['QS']>0][trans_bulk_df['Strain']=='L1'][trans_bulk_df['Initial H2O2']==1.56]['Step'], trans_bulk_df[trans_bulk_df['QS']>0][trans_bulk_df['Strain']=='L1'][trans_bulk_df['Initial H2O2']==1.56]['QS'])\n"
     ]
    },
    {
     "data": {
      "text/plain": [
       "[<matplotlib.lines.Line2D at 0x2107c18dd30>]"
      ]
     },
     "execution_count": 117,
     "metadata": {},
     "output_type": "execute_result"
    },
    {
     "data": {
      "image/png": "[encoded data removed]",
      "text/plain": [
       "<Figure size 432x288 with 1 Axes>"
      ]
     },
     "metadata": {},
     "output_type": "display_data"
    }
   ],
   "source": [
    "plt.plot(trans_bulk_df[trans_bulk_df['QS']>0][trans_bulk_df['Strain']=='L1'][trans_bulk_df['Initial H2O2']==1.56]['Step'], trans_bulk_df[trans_bulk_df['QS']>0][trans_bulk_df['Strain']=='L1'][trans_bulk_df['Initial H2O2']==1.56]['QS'])"
   ]
  },
  {
   "cell_type": "code",
   "execution_count": 118,
   "metadata": {},
   "outputs": [
    {
     "name": "stderr",
     "output_type": "stream",
     "text": [
      "<ipython-input-118-16eaa9aad9e1>:1: UserWarning: Boolean Series key will be reindexed to match DataFrame index.\n",
      "  plt.plot(trans_bulk_df[trans_bulk_df['QS']>0][trans_bulk_df['Strain']=='L1'][trans_bulk_df['Initial H2O2']==3.13]['Step'], trans_bulk_df[trans_bulk_df['QS']>0][trans_bulk_df['Strain']=='L1'][trans_bulk_df['Initial H2O2']==3.13]['QS'])\n",
      "<ipython-input-118-16eaa9aad9e1>:1: UserWarning: Boolean Series key will be reindexed to match DataFrame index.\n",
      "  plt.plot(trans_bulk_df[trans_bulk_df['QS']>0][trans_bulk_df['Strain']=='L1'][trans_bulk_df['Initial H2O2']==3.13]['Step'], trans_bulk_df[trans_bulk_df['QS']>0][trans_bulk_df['Strain']=='L1'][trans_bulk_df['Initial H2O2']==3.13]['QS'])\n",
      "<ipython-input-118-16eaa9aad9e1>:1: UserWarning: Boolean Series key will be reindexed to match DataFrame index.\n",
      "  plt.plot(trans_bulk_df[trans_bulk_df['QS']>0][trans_bulk_df['Strain']=='L1'][trans_bulk_df['Initial H2O2']==3.13]['Step'], trans_bulk_df[trans_bulk_df['QS']>0][trans_bulk_df['Strain']=='L1'][trans_bulk_df['Initial H2O2']==3.13]['QS'])\n",
      "<ipython-input-118-16eaa9aad9e1>:1: UserWarning: Boolean Series key will be reindexed to match DataFrame index.\n",
      "  plt.plot(trans_bulk_df[trans_bulk_df['QS']>0][trans_bulk_df['Strain']=='L1'][trans_bulk_df['Initial H2O2']==3.13]['Step'], trans_bulk_df[trans_bulk_df['QS']>0][trans_bulk_df['Strain']=='L1'][trans_bulk_df['Initial H2O2']==3.13]['QS'])\n"
     ]
    },
    {
     "data": {
      "text/plain": [
       "[<matplotlib.lines.Line2D at 0x21049d4d1c0>]"
      ]
     },
     "execution_count": 118,
     "metadata": {},
     "output_type": "execute_result"
    },
    {
     "data": {
      "image/png": "[encoded data removed]",
      "text/plain": [
       "<Figure size 432x288 with 1 Axes>"
      ]
     },
     "metadata": {},
     "output_type": "display_data"
    }
   ],
   "source": [
    "plt.plot(trans_bulk_df[trans_bulk_df['QS']>0][trans_bulk_df['Strain']=='L1'][trans_bulk_df['Initial H2O2']==3.13]['Step'], trans_bulk_df[trans_bulk_df['QS']>0][trans_bulk_df['Strain']=='L1'][trans_bulk_df['Initial H2O2']==3.13]['QS'])"
   ]
  },
  {
   "cell_type": "code",
   "execution_count": 119,
   "metadata": {},
   "outputs": [
    {
     "name": "stderr",
     "output_type": "stream",
     "text": [
      "<ipython-input-119-0bea3edc8473>:1: UserWarning: Boolean Series key will be reindexed to match DataFrame index.\n",
      "  plt.plot(trans_bulk_df[trans_bulk_df['QS']>0][trans_bulk_df['Strain']=='L1'][trans_bulk_df['Initial H2O2']==6.25]['Step'], trans_bulk_df[trans_bulk_df['QS']>0][trans_bulk_df['Strain']=='L1'][trans_bulk_df['Initial H2O2']==6.25]['QS'])\n",
      "<ipython-input-119-0bea3edc8473>:1: UserWarning: Boolean Series key will be reindexed to match DataFrame index.\n",
      "  plt.plot(trans_bulk_df[trans_bulk_df['QS']>0][trans_bulk_df['Strain']=='L1'][trans_bulk_df['Initial H2O2']==6.25]['Step'], trans_bulk_df[trans_bulk_df['QS']>0][trans_bulk_df['Strain']=='L1'][trans_bulk_df['Initial H2O2']==6.25]['QS'])\n",
      "<ipython-input-119-0bea3edc8473>:1: UserWarning: Boolean Series key will be reindexed to match DataFrame index.\n",
      "  plt.plot(trans_bulk_df[trans_bulk_df['QS']>0][trans_bulk_df['Strain']=='L1'][trans_bulk_df['Initial H2O2']==6.25]['Step'], trans_bulk_df[trans_bulk_df['QS']>0][trans_bulk_df['Strain']=='L1'][trans_bulk_df['Initial H2O2']==6.25]['QS'])\n",
      "<ipython-input-119-0bea3edc8473>:1: UserWarning: Boolean Series key will be reindexed to match DataFrame index.\n",
      "  plt.plot(trans_bulk_df[trans_bulk_df['QS']>0][trans_bulk_df['Strain']=='L1'][trans_bulk_df['Initial H2O2']==6.25]['Step'], trans_bulk_df[trans_bulk_df['QS']>0][trans_bulk_df['Strain']=='L1'][trans_bulk_df['Initial H2O2']==6.25]['QS'])\n"
     ]
    },
    {
     "data": {
      "text/plain": [
       "[<matplotlib.lines.Line2D at 0x210198e8400>]"
      ]
     },
     "execution_count": 119,
     "metadata": {},
     "output_type": "execute_result"
    },
    {
     "data": {
      "image/png": "[encoded data removed]",
      "text/plain": [
       "<Figure size 432x288 with 1 Axes>"
      ]
     },
     "metadata": {},
     "output_type": "display_data"
    }
   ],
   "source": [
    "plt.plot(trans_bulk_df[trans_bulk_df['QS']>0][trans_bulk_df['Strain']=='L1'][trans_bulk_df['Initial H2O2']==6.25]['Step'], trans_bulk_df[trans_bulk_df['QS']>0][trans_bulk_df['Strain']=='L1'][trans_bulk_df['Initial H2O2']==6.25]['QS'])"
   ]
  },
  {
   "cell_type": "code",
   "execution_count": 120,
   "metadata": {},
   "outputs": [
    {
     "name": "stderr",
     "output_type": "stream",
     "text": [
      "<ipython-input-120-0b7c5cbe3658>:1: UserWarning: Boolean Series key will be reindexed to match DataFrame index.\n",
      "  plt.plot(trans_bulk_df[trans_bulk_df['QS']>0][trans_bulk_df['Strain']=='L1'][trans_bulk_df['Initial H2O2']==12.5]['Step'], trans_bulk_df[trans_bulk_df['QS']>0][trans_bulk_df['Strain']=='L1'][trans_bulk_df['Initial H2O2']==12.5]['QS'])\n",
      "<ipython-input-120-0b7c5cbe3658>:1: UserWarning: Boolean Series key will be reindexed to match DataFrame index.\n",
      "  plt.plot(trans_bulk_df[trans_bulk_df['QS']>0][trans_bulk_df['Strain']=='L1'][trans_bulk_df['Initial H2O2']==12.5]['Step'], trans_bulk_df[trans_bulk_df['QS']>0][trans_bulk_df['Strain']=='L1'][trans_bulk_df['Initial H2O2']==12.5]['QS'])\n",
      "<ipython-input-120-0b7c5cbe3658>:1: UserWarning: Boolean Series key will be reindexed to match DataFrame index.\n",
      "  plt.plot(trans_bulk_df[trans_bulk_df['QS']>0][trans_bulk_df['Strain']=='L1'][trans_bulk_df['Initial H2O2']==12.5]['Step'], trans_bulk_df[trans_bulk_df['QS']>0][trans_bulk_df['Strain']=='L1'][trans_bulk_df['Initial H2O2']==12.5]['QS'])\n",
      "<ipython-input-120-0b7c5cbe3658>:1: UserWarning: Boolean Series key will be reindexed to match DataFrame index.\n",
      "  plt.plot(trans_bulk_df[trans_bulk_df['QS']>0][trans_bulk_df['Strain']=='L1'][trans_bulk_df['Initial H2O2']==12.5]['Step'], trans_bulk_df[trans_bulk_df['QS']>0][trans_bulk_df['Strain']=='L1'][trans_bulk_df['Initial H2O2']==12.5]['QS'])\n"
     ]
    },
    {
     "data": {
      "text/plain": [
       "[<matplotlib.lines.Line2D at 0x210815cfca0>]"
      ]
     },
     "execution_count": 120,
     "metadata": {},
     "output_type": "execute_result"
    },
    {
     "data": {
      "image/png": "[encoded data removed]",
      "text/plain": [
       "<Figure size 432x288 with 1 Axes>"
      ]
     },
     "metadata": {},
     "output_type": "display_data"
    }
   ],
   "source": [
    "plt.plot(trans_bulk_df[trans_bulk_df['QS']>0][trans_bulk_df['Strain']=='L1'][trans_bulk_df['Initial H2O2']==12.5]['Step'], trans_bulk_df[trans_bulk_df['QS']>0][trans_bulk_df['Strain']=='L1'][trans_bulk_df['Initial H2O2']==12.5]['QS'])"
   ]
  },
  {
   "cell_type": "code",
   "execution_count": 121,
   "metadata": {},
   "outputs": [
    {
     "name": "stderr",
     "output_type": "stream",
     "text": [
      "<ipython-input-121-311b27d020e9>:1: UserWarning: Boolean Series key will be reindexed to match DataFrame index.\n",
      "  plt.plot(trans_bulk_df[trans_bulk_df['QS']>0][trans_bulk_df['Strain']=='L1'][trans_bulk_df['Initial H2O2']==25]['Step'], trans_bulk_df[trans_bulk_df['QS']>0][trans_bulk_df['Strain']=='L1'][trans_bulk_df['Initial H2O2']==25]['QS'])\n",
      "<ipython-input-121-311b27d020e9>:1: UserWarning: Boolean Series key will be reindexed to match DataFrame index.\n",
      "  plt.plot(trans_bulk_df[trans_bulk_df['QS']>0][trans_bulk_df['Strain']=='L1'][trans_bulk_df['Initial H2O2']==25]['Step'], trans_bulk_df[trans_bulk_df['QS']>0][trans_bulk_df['Strain']=='L1'][trans_bulk_df['Initial H2O2']==25]['QS'])\n",
      "<ipython-input-121-311b27d020e9>:1: UserWarning: Boolean Series key will be reindexed to match DataFrame index.\n",
      "  plt.plot(trans_bulk_df[trans_bulk_df['QS']>0][trans_bulk_df['Strain']=='L1'][trans_bulk_df['Initial H2O2']==25]['Step'], trans_bulk_df[trans_bulk_df['QS']>0][trans_bulk_df['Strain']=='L1'][trans_bulk_df['Initial H2O2']==25]['QS'])\n",
      "<ipython-input-121-311b27d020e9>:1: UserWarning: Boolean Series key will be reindexed to match DataFrame index.\n",
      "  plt.plot(trans_bulk_df[trans_bulk_df['QS']>0][trans_bulk_df['Strain']=='L1'][trans_bulk_df['Initial H2O2']==25]['Step'], trans_bulk_df[trans_bulk_df['QS']>0][trans_bulk_df['Strain']=='L1'][trans_bulk_df['Initial H2O2']==25]['QS'])\n"
     ]
    },
    {
     "data": {
      "text/plain": [
       "[<matplotlib.lines.Line2D at 0x21034b4d970>]"
      ]
     },
     "execution_count": 121,
     "metadata": {},
     "output_type": "execute_result"
    },
    {
     "data": {
      "image/png": "[encoded data removed]",
      "text/plain": [
       "<Figure size 432x288 with 1 Axes>"
      ]
     },
     "metadata": {},
     "output_type": "display_data"
    }
   ],
   "source": [
    "plt.plot(trans_bulk_df[trans_bulk_df['QS']>0][trans_bulk_df['Strain']=='L1'][trans_bulk_df['Initial H2O2']==25]['Step'], trans_bulk_df[trans_bulk_df['QS']>0][trans_bulk_df['Strain']=='L1'][trans_bulk_df['Initial H2O2']==25]['QS'])"
   ]
  }
 ],
 "metadata": {
  "kernelspec": {
   "display_name": "Python 3",
   "language": "python",
   "name": "python3"
  },
  "language_info": {
   "codemirror_mode": {
    "name": "ipython",
    "version": 3
   },
   "file_extension": ".py",
   "mimetype": "text/x-python",
   "name": "python",
   "nbconvert_exporter": "python",
   "pygments_lexer": "ipython3",
   "version": "3.8.5"
  }
 },
 "nbformat": 4,
 "nbformat_minor": 4
}
